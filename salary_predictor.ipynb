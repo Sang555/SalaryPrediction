{
 "cells": [
  {
   "cell_type": "markdown",
   "id": "7646847f",
   "metadata": {},
   "source": [
    "Start by importing all the required libraries."
   ]
  },
  {
   "cell_type": "code",
   "execution_count": 57,
   "id": "04ae57cf",
   "metadata": {},
   "outputs": [],
   "source": [
    "import pandas as pd\n",
    "import numpy as np\n",
    "import seaborn as sns\n",
    "import matplotlib.pyplot as plt\n",
    "import category_encoders as ce\n",
    "from scipy.stats import pearsonr\n",
    "from scipy import stats\n",
    "from sklearn.impute import KNNImputer\n",
    "from sklearn import preprocessing\n",
    "from sklearn.preprocessing import StandardScaler, LabelEncoder\n",
    "from sklearn.model_selection import train_test_split\n",
    "from sklearn.metrics import r2_score, mean_squared_error\n",
    "from sklearn.ensemble import RandomForestRegressor as RFR\n",
    "from sklearn.svm import SVR\n",
    "from sklearn.linear_model import LinearRegression\n",
    "from xgboost.sklearn import XGBRegressor\n",
    "from sklearn.svm import SVR\n",
    "from sklearn.ensemble import GradientBoostingRegressor, StackingRegressor\n",
    "from sklearn.linear_model import Lasso\n",
    "from sklearn.model_selection import GridSearchCV, cross_val_score, KFold\n",
    "from sklearn.feature_selection import SelectKBest, f_classif, f_regression, mutual_info_regression"
   ]
  },
  {
   "cell_type": "markdown",
   "id": "b086acfd",
   "metadata": {},
   "source": [
    "Load the train and test data"
   ]
  },
  {
   "cell_type": "code",
   "execution_count": 58,
   "id": "e6f4411b",
   "metadata": {},
   "outputs": [],
   "source": [
    "train_features = pd.read_csv(\"train_features.csv\")\n",
    "train_salaries = pd.read_csv(\"train_salaries.csv\")\n",
    "test_features = pd.read_csv(\"test_features.csv\")"
   ]
  },
  {
   "cell_type": "markdown",
   "id": "cb21b032",
   "metadata": {},
   "source": [
    "Explore the data."
   ]
  },
  {
   "cell_type": "code",
   "execution_count": 59,
   "id": "fdd230f6",
   "metadata": {},
   "outputs": [
    {
     "data": {
      "text/html": [
       "<div>\n",
       "<style scoped>\n",
       "    .dataframe tbody tr th:only-of-type {\n",
       "        vertical-align: middle;\n",
       "    }\n",
       "\n",
       "    .dataframe tbody tr th {\n",
       "        vertical-align: top;\n",
       "    }\n",
       "\n",
       "    .dataframe thead th {\n",
       "        text-align: right;\n",
       "    }\n",
       "</style>\n",
       "<table border=\"1\" class=\"dataframe\">\n",
       "  <thead>\n",
       "    <tr style=\"text-align: right;\">\n",
       "      <th></th>\n",
       "      <th>jobId</th>\n",
       "      <th>companyId</th>\n",
       "      <th>jobType</th>\n",
       "      <th>degree</th>\n",
       "      <th>major</th>\n",
       "      <th>industry</th>\n",
       "      <th>yearsExperience</th>\n",
       "      <th>milesFromMetropolis</th>\n",
       "    </tr>\n",
       "  </thead>\n",
       "  <tbody>\n",
       "    <tr>\n",
       "      <th>0</th>\n",
       "      <td>JOB1362684407687</td>\n",
       "      <td>COMP37</td>\n",
       "      <td>CFO</td>\n",
       "      <td>MASTERS</td>\n",
       "      <td>MATH</td>\n",
       "      <td>HEALTH</td>\n",
       "      <td>10</td>\n",
       "      <td>83</td>\n",
       "    </tr>\n",
       "    <tr>\n",
       "      <th>1</th>\n",
       "      <td>JOB1362684407688</td>\n",
       "      <td>COMP19</td>\n",
       "      <td>CEO</td>\n",
       "      <td>HIGH_SCHOOL</td>\n",
       "      <td>NONE</td>\n",
       "      <td>WEB</td>\n",
       "      <td>3</td>\n",
       "      <td>73</td>\n",
       "    </tr>\n",
       "    <tr>\n",
       "      <th>2</th>\n",
       "      <td>JOB1362684407689</td>\n",
       "      <td>COMP52</td>\n",
       "      <td>VICE_PRESIDENT</td>\n",
       "      <td>DOCTORAL</td>\n",
       "      <td>PHYSICS</td>\n",
       "      <td>HEALTH</td>\n",
       "      <td>10</td>\n",
       "      <td>38</td>\n",
       "    </tr>\n",
       "  </tbody>\n",
       "</table>\n",
       "</div>"
      ],
      "text/plain": [
       "              jobId companyId         jobType       degree    major industry  \\\n",
       "0  JOB1362684407687    COMP37             CFO      MASTERS     MATH   HEALTH   \n",
       "1  JOB1362684407688    COMP19             CEO  HIGH_SCHOOL     NONE      WEB   \n",
       "2  JOB1362684407689    COMP52  VICE_PRESIDENT     DOCTORAL  PHYSICS   HEALTH   \n",
       "\n",
       "   yearsExperience  milesFromMetropolis  \n",
       "0               10                   83  \n",
       "1                3                   73  \n",
       "2               10                   38  "
      ]
     },
     "execution_count": 59,
     "metadata": {},
     "output_type": "execute_result"
    }
   ],
   "source": [
    "train_features.head(3)"
   ]
  },
  {
   "cell_type": "code",
   "execution_count": 60,
   "id": "405b7589",
   "metadata": {},
   "outputs": [
    {
     "data": {
      "text/html": [
       "<div>\n",
       "<style scoped>\n",
       "    .dataframe tbody tr th:only-of-type {\n",
       "        vertical-align: middle;\n",
       "    }\n",
       "\n",
       "    .dataframe tbody tr th {\n",
       "        vertical-align: top;\n",
       "    }\n",
       "\n",
       "    .dataframe thead th {\n",
       "        text-align: right;\n",
       "    }\n",
       "</style>\n",
       "<table border=\"1\" class=\"dataframe\">\n",
       "  <thead>\n",
       "    <tr style=\"text-align: right;\">\n",
       "      <th></th>\n",
       "      <th>jobId</th>\n",
       "      <th>salary</th>\n",
       "    </tr>\n",
       "  </thead>\n",
       "  <tbody>\n",
       "    <tr>\n",
       "      <th>0</th>\n",
       "      <td>JOB1362684407687</td>\n",
       "      <td>130</td>\n",
       "    </tr>\n",
       "    <tr>\n",
       "      <th>1</th>\n",
       "      <td>JOB1362684407688</td>\n",
       "      <td>101</td>\n",
       "    </tr>\n",
       "    <tr>\n",
       "      <th>2</th>\n",
       "      <td>JOB1362684407689</td>\n",
       "      <td>137</td>\n",
       "    </tr>\n",
       "  </tbody>\n",
       "</table>\n",
       "</div>"
      ],
      "text/plain": [
       "              jobId  salary\n",
       "0  JOB1362684407687     130\n",
       "1  JOB1362684407688     101\n",
       "2  JOB1362684407689     137"
      ]
     },
     "execution_count": 60,
     "metadata": {},
     "output_type": "execute_result"
    }
   ],
   "source": [
    "train_salaries.head(3)"
   ]
  },
  {
   "cell_type": "markdown",
   "id": "c75cdd0f",
   "metadata": {},
   "source": [
    "Then join the features and target data"
   ]
  },
  {
   "cell_type": "code",
   "execution_count": 61,
   "id": "beed36c2",
   "metadata": {},
   "outputs": [
    {
     "data": {
      "text/html": [
       "<div>\n",
       "<style scoped>\n",
       "    .dataframe tbody tr th:only-of-type {\n",
       "        vertical-align: middle;\n",
       "    }\n",
       "\n",
       "    .dataframe tbody tr th {\n",
       "        vertical-align: top;\n",
       "    }\n",
       "\n",
       "    .dataframe thead th {\n",
       "        text-align: right;\n",
       "    }\n",
       "</style>\n",
       "<table border=\"1\" class=\"dataframe\">\n",
       "  <thead>\n",
       "    <tr style=\"text-align: right;\">\n",
       "      <th></th>\n",
       "      <th>jobId</th>\n",
       "      <th>companyId</th>\n",
       "      <th>jobType</th>\n",
       "      <th>degree</th>\n",
       "      <th>major</th>\n",
       "      <th>industry</th>\n",
       "      <th>yearsExperience</th>\n",
       "      <th>milesFromMetropolis</th>\n",
       "      <th>salary</th>\n",
       "    </tr>\n",
       "  </thead>\n",
       "  <tbody>\n",
       "    <tr>\n",
       "      <th>0</th>\n",
       "      <td>JOB1362684407687</td>\n",
       "      <td>COMP37</td>\n",
       "      <td>CFO</td>\n",
       "      <td>MASTERS</td>\n",
       "      <td>MATH</td>\n",
       "      <td>HEALTH</td>\n",
       "      <td>10</td>\n",
       "      <td>83</td>\n",
       "      <td>130</td>\n",
       "    </tr>\n",
       "    <tr>\n",
       "      <th>1</th>\n",
       "      <td>JOB1362684407688</td>\n",
       "      <td>COMP19</td>\n",
       "      <td>CEO</td>\n",
       "      <td>HIGH_SCHOOL</td>\n",
       "      <td>NONE</td>\n",
       "      <td>WEB</td>\n",
       "      <td>3</td>\n",
       "      <td>73</td>\n",
       "      <td>101</td>\n",
       "    </tr>\n",
       "    <tr>\n",
       "      <th>2</th>\n",
       "      <td>JOB1362684407689</td>\n",
       "      <td>COMP52</td>\n",
       "      <td>VICE_PRESIDENT</td>\n",
       "      <td>DOCTORAL</td>\n",
       "      <td>PHYSICS</td>\n",
       "      <td>HEALTH</td>\n",
       "      <td>10</td>\n",
       "      <td>38</td>\n",
       "      <td>137</td>\n",
       "    </tr>\n",
       "  </tbody>\n",
       "</table>\n",
       "</div>"
      ],
      "text/plain": [
       "              jobId companyId         jobType       degree    major industry  \\\n",
       "0  JOB1362684407687    COMP37             CFO      MASTERS     MATH   HEALTH   \n",
       "1  JOB1362684407688    COMP19             CEO  HIGH_SCHOOL     NONE      WEB   \n",
       "2  JOB1362684407689    COMP52  VICE_PRESIDENT     DOCTORAL  PHYSICS   HEALTH   \n",
       "\n",
       "   yearsExperience  milesFromMetropolis  salary  \n",
       "0               10                   83     130  \n",
       "1                3                   73     101  \n",
       "2               10                   38     137  "
      ]
     },
     "execution_count": 61,
     "metadata": {},
     "output_type": "execute_result"
    }
   ],
   "source": [
    "train_features = pd.merge(train_features,train_salaries,on=\"jobId\")\n",
    "train_features.head(3)"
   ]
  },
  {
   "cell_type": "code",
   "execution_count": 8,
   "id": "2c12e1b7",
   "metadata": {},
   "outputs": [
    {
     "name": "stdout",
     "output_type": "stream",
     "text": [
      "<class 'pandas.core.frame.DataFrame'>\n",
      "Int64Index: 1000000 entries, 0 to 999999\n",
      "Data columns (total 9 columns):\n",
      " #   Column               Non-Null Count    Dtype \n",
      "---  ------               --------------    ----- \n",
      " 0   jobId                1000000 non-null  object\n",
      " 1   companyId            1000000 non-null  object\n",
      " 2   jobType              1000000 non-null  object\n",
      " 3   degree               1000000 non-null  object\n",
      " 4   major                1000000 non-null  object\n",
      " 5   industry             1000000 non-null  object\n",
      " 6   yearsExperience      1000000 non-null  int64 \n",
      " 7   milesFromMetropolis  1000000 non-null  int64 \n",
      " 8   salary               1000000 non-null  int64 \n",
      "dtypes: int64(3), object(6)\n",
      "memory usage: 76.3+ MB\n"
     ]
    }
   ],
   "source": [
    "train_features.info()"
   ]
  },
  {
   "cell_type": "code",
   "execution_count": 62,
   "id": "c65a3b20",
   "metadata": {},
   "outputs": [
    {
     "data": {
      "text/plain": [
       "array(['MASTERS', 'HIGH_SCHOOL', 'DOCTORAL', 'BACHELORS', 'NONE'],\n",
       "      dtype=object)"
      ]
     },
     "execution_count": 62,
     "metadata": {},
     "output_type": "execute_result"
    }
   ],
   "source": [
    "train_features.degree.unique()"
   ]
  },
  {
   "cell_type": "markdown",
   "id": "c87a1813",
   "metadata": {},
   "source": [
    "The null values are present as None in the table (found by inspection of unique values in excel), so must convert them to get the null value count."
   ]
  },
  {
   "cell_type": "code",
   "execution_count": 63,
   "id": "aa016658",
   "metadata": {},
   "outputs": [],
   "source": [
    "train_features.replace(to_replace='NONE', value=np.nan, inplace=True)"
   ]
  },
  {
   "cell_type": "code",
   "execution_count": 64,
   "id": "4db4364a",
   "metadata": {},
   "outputs": [
    {
     "name": "stdout",
     "output_type": "stream",
     "text": [
      "<class 'pandas.core.frame.DataFrame'>\n",
      "Int64Index: 1000000 entries, 0 to 999999\n",
      "Data columns (total 9 columns):\n",
      " #   Column               Non-Null Count    Dtype \n",
      "---  ------               --------------    ----- \n",
      " 0   jobId                1000000 non-null  object\n",
      " 1   companyId            1000000 non-null  object\n",
      " 2   jobType              1000000 non-null  object\n",
      " 3   degree               763146 non-null   object\n",
      " 4   major                467645 non-null   object\n",
      " 5   industry             1000000 non-null  object\n",
      " 6   yearsExperience      1000000 non-null  int64 \n",
      " 7   milesFromMetropolis  1000000 non-null  int64 \n",
      " 8   salary               1000000 non-null  int64 \n",
      "dtypes: int64(3), object(6)\n",
      "memory usage: 76.3+ MB\n"
     ]
    }
   ],
   "source": [
    "train_features.info()"
   ]
  },
  {
   "cell_type": "markdown",
   "id": "f4d993e7",
   "metadata": {},
   "source": [
    "2 columns have null values in large amount, especially major has 50% misisng data."
   ]
  },
  {
   "cell_type": "code",
   "execution_count": 65,
   "id": "97eb9667",
   "metadata": {},
   "outputs": [
    {
     "data": {
      "image/png": "[encoded data removed]",
      "text/plain": [
       "<Figure size 432x288 with 1 Axes>"
      ]
     },
     "metadata": {
      "needs_background": "light"
     },
     "output_type": "display_data"
    },
    {
     "data": {
      "text/plain": [
       "<Figure size 432x288 with 0 Axes>"
      ]
     },
     "metadata": {},
     "output_type": "display_data"
    }
   ],
   "source": [
    "degree_pcount = sns.countplot(x=\"degree\",data=train_features)\n",
    "plt.show()\n",
    "plt.savefig(\"degree_distribution.png\")"
   ]
  },
  {
   "cell_type": "code",
   "execution_count": 66,
   "id": "5519e593",
   "metadata": {},
   "outputs": [
    {
     "data": {
      "image/png": "[encoded data removed]",
      "text/plain": [
       "<Figure size 432x288 with 1 Axes>"
      ]
     },
     "metadata": {
      "needs_background": "light"
     },
     "output_type": "display_data"
    },
    {
     "data": {
      "text/plain": [
       "<Figure size 432x288 with 0 Axes>"
      ]
     },
     "metadata": {},
     "output_type": "display_data"
    }
   ],
   "source": [
    "major_pcount = sns.countplot(x=\"major\",data=train_features)\n",
    "plt.show()\n",
    "plt.savefig(\"major_distribution.png\")"
   ]
  },
  {
   "cell_type": "code",
   "execution_count": 67,
   "id": "28319d5f",
   "metadata": {},
   "outputs": [
    {
     "data": {
      "image/png": "[encoded data removed]",
      "text/plain": [
       "<Figure size 432x288 with 1 Axes>"
      ]
     },
     "metadata": {
      "needs_background": "light"
     },
     "output_type": "display_data"
    },
    {
     "data": {
      "text/plain": [
       "<Figure size 432x288 with 0 Axes>"
      ]
     },
     "metadata": {},
     "output_type": "display_data"
    }
   ],
   "source": [
    "jobtype_pcount = sns.countplot(x=\"jobType\",data=train_features)\n",
    "plt.show()\n",
    "plt.savefig(\"jobtype_distribution.png\")"
   ]
  },
  {
   "cell_type": "code",
   "execution_count": 68,
   "id": "73c0c2e6",
   "metadata": {},
   "outputs": [
    {
     "data": {
      "image/png": "[encoded data removed]",
      "text/plain": [
       "<Figure size 432x288 with 1 Axes>"
      ]
     },
     "metadata": {
      "needs_background": "light"
     },
     "output_type": "display_data"
    },
    {
     "data": {
      "text/plain": [
       "<Figure size 432x288 with 0 Axes>"
      ]
     },
     "metadata": {},
     "output_type": "display_data"
    }
   ],
   "source": [
    "company_pcount = sns.countplot(x=\"companyId\",data=train_features)\n",
    "plt.show()\n",
    "plt.savefig(\"company_distribution.png\")"
   ]
  },
  {
   "cell_type": "markdown",
   "id": "ea80ddcf",
   "metadata": {},
   "source": [
    "It can be seen that most of data is equally distributed."
   ]
  },
  {
   "cell_type": "code",
   "execution_count": 69,
   "id": "d396385c",
   "metadata": {},
   "outputs": [
    {
     "name": "stdout",
     "output_type": "stream",
     "text": [
      "0.532355 0.236854\n"
     ]
    }
   ],
   "source": [
    "percentange_major_null = len(train_features[pd.isnull(train_features[\"major\"])])/len(train_features)\n",
    "percentage_degree_null = len(train_features[pd.isnull(train_features[\"degree\"])])/len(train_features)\n",
    "\n",
    "major_not_null = train_features[~pd.isnull(train_features[\"major\"])]\n",
    "degree_not_null = train_features[~pd.isnull(train_features[\"degree\"])]\n",
    "\n",
    "print(percentange_major_null, percentage_degree_null)"
   ]
  },
  {
   "cell_type": "markdown",
   "id": "49f0bf27",
   "metadata": {},
   "source": [
    "It can be 50% and 23% of data is missing for the 2 features. Should drop them? let us first check if they are correlated with the salary. To check correlation for categorical data, we use one-way anova test."
   ]
  },
  {
   "cell_type": "code",
   "execution_count": 70,
   "id": "8086ec7f",
   "metadata": {},
   "outputs": [
    {
     "data": {
      "text/plain": [
       "Index(['jobId', 'companyId', 'jobType', 'degree', 'major', 'industry',\n",
       "       'yearsExperience', 'milesFromMetropolis', 'salary'],\n",
       "      dtype='object')"
      ]
     },
     "execution_count": 70,
     "metadata": {},
     "output_type": "execute_result"
    }
   ],
   "source": [
    "train_features.columns"
   ]
  },
  {
   "cell_type": "code",
   "execution_count": 71,
   "id": "e41938a9",
   "metadata": {},
   "outputs": [
    {
     "name": "stdout",
     "output_type": "stream",
     "text": [
      "major F_onewayResult(statistic=922.937206852342, pvalue=0.0)\n",
      "degree F_onewayResult(statistic=37310.44708837316, pvalue=0.0)\n",
      "industry F_onewayResult(statistic=16077.64261880988, pvalue=0.0)\n",
      "company F_onewayResult(statistic=1.1616835655846136, pvalue=0.18011430792858923)\n",
      "jobType F_onewayResult(statistic=79296.75890294109, pvalue=0.0)\n"
     ]
    }
   ],
   "source": [
    "values = []\n",
    "\n",
    "major_not_null = train_features[~pd.isnull(train_features[\"major\"])]\n",
    "degree_not_null = train_features[~pd.isnull(train_features[\"degree\"])]\n",
    "\n",
    "for major in major_not_null.major.unique():\n",
    "    _df = major_not_null[major_not_null.major==major]\n",
    "    values.append(_df.salary.values)\n",
    "print(\"major\",stats.f_oneway(*values))\n",
    "\n",
    "values = []\n",
    "for degree in degree_not_null.degree.unique():\n",
    "    _df = degree_not_null[degree_not_null.degree==degree]\n",
    "    values.append(_df.salary.values)\n",
    "\n",
    "print(\"degree\",stats.f_oneway(*values))\n",
    "\n",
    "values = []\n",
    "for industry in train_features.industry.unique():\n",
    "    _df = train_features[train_features.industry==industry]\n",
    "    values.append(_df.salary.values)\n",
    "\n",
    "print(\"industry\",stats.f_oneway(*values))\n",
    "\n",
    "values = []\n",
    "for company in train_features.companyId.unique():\n",
    "    _df = train_features[train_features.companyId==company]\n",
    "    values.append(_df.salary.values)\n",
    "\n",
    "print(\"company\",stats.f_oneway(*values))\n",
    "\n",
    "values = []\n",
    "for jobType in train_features.jobType.unique():\n",
    "    _df = train_features[train_features.jobType==jobType]\n",
    "    values.append(_df.salary.values)\n",
    "\n",
    "print(\"jobType\",stats.f_oneway(*values))"
   ]
  },
  {
   "cell_type": "markdown",
   "id": "aa216fbd",
   "metadata": {},
   "source": [
    "From this, it can be seen that the categorical features that are most correlated to salary are in the order jobType, degree, industry and major. Company is not so correlated with the salary."
   ]
  },
  {
   "cell_type": "code",
   "execution_count": 72,
   "id": "a4ab9035",
   "metadata": {},
   "outputs": [
    {
     "data": {
      "image/png": "[encoded data removed]",
      "text/plain": [
       "<Figure size 432x288 with 2 Axes>"
      ]
     },
     "metadata": {
      "needs_background": "light"
     },
     "output_type": "display_data"
    }
   ],
   "source": [
    "matrix =train_features.corr(method='pearson')\n",
    "sns.heatmap(matrix)\n",
    "plt.show()"
   ]
  },
  {
   "cell_type": "markdown",
   "id": "a1313407",
   "metadata": {},
   "source": [
    "Among the categorical features, it can be seen that using pearson correlation, yearsExperience is more correlated than milesFromMetroplois."
   ]
  },
  {
   "cell_type": "code",
   "execution_count": 73,
   "id": "840900ba",
   "metadata": {},
   "outputs": [
    {
     "data": {
      "text/plain": [
       "jobId                  JOB1362684407687\n",
       "companyId                        COMP37\n",
       "jobType                             CFO\n",
       "degree                          MASTERS\n",
       "major                              MATH\n",
       "industry                         HEALTH\n",
       "yearsExperience                      10\n",
       "milesFromMetropolis                  83\n",
       "salary                              130\n",
       "Name: 0, dtype: object"
      ]
     },
     "execution_count": 73,
     "metadata": {},
     "output_type": "execute_result"
    }
   ],
   "source": [
    "#for less and meaningful categories convert to binaryencoder\n",
    "encoder = ce.BinaryEncoder(cols=['degree','major','jobType','industry','companyId'])\n",
    "train_features_binary = encoder.fit_transform(train_features)\n",
    "test_features_binary = encoder.fit_transform(test_features)\n",
    "train_features.iloc[0]"
   ]
  },
  {
   "cell_type": "markdown",
   "id": "64054acf",
   "metadata": {},
   "source": [
    "Handle the missing data using KNNImputer."
   ]
  },
  {
   "cell_type": "code",
   "execution_count": 74,
   "id": "0c1bd6e9",
   "metadata": {},
   "outputs": [],
   "source": [
    "#most in janitor is missing\n",
    "#both features are important, so we have to impute them\n",
    "imputer = KNNImputer(n_neighbors=3)\n",
    "train_features_binary = train_features_binary.drop(columns=[\"jobId\"])\n",
    "imputed_data = imputer.fit_transform(train_features_binary)\n",
    "imputed_df = pd.DataFrame(imputed_data, columns=train_features_binary.columns)"
   ]
  },
  {
   "cell_type": "markdown",
   "id": "23ba4123",
   "metadata": {},
   "source": [
    "Now on handling misisng data, outliers must be handled"
   ]
  },
  {
   "cell_type": "code",
   "execution_count": 75,
   "id": "a7412703",
   "metadata": {},
   "outputs": [
    {
     "data": {
      "image/png": "[encoded data removed]",
      "text/plain": [
       "<Figure size 432x288 with 1 Axes>"
      ]
     },
     "metadata": {
      "needs_background": "light"
     },
     "output_type": "display_data"
    },
    {
     "data": {
      "text/plain": [
       "<Figure size 432x288 with 0 Axes>"
      ]
     },
     "metadata": {},
     "output_type": "display_data"
    }
   ],
   "source": [
    "df_continuous = imputed_df[['yearsExperience', 'milesFromMetropolis','salary']]\n",
    "\n",
    "sns.boxplot(data=df_continuous, orient=\"h\")\n",
    "plt.show()\n",
    "plt.savefig(\"outliers.png\")"
   ]
  },
  {
   "cell_type": "markdown",
   "id": "be249743",
   "metadata": {},
   "source": [
    "Target variable salary has outliers using box and whisker plot, bring to bounds from box whisker plot. Remove it by using maximum and minimum bounds to restrict them."
   ]
  },
  {
   "cell_type": "code",
   "execution_count": 76,
   "id": "8710d2a1",
   "metadata": {},
   "outputs": [],
   "source": [
    "lower_salary = 17\n",
    "upper_salary = 219\n",
    "imputed_df.loc[imputed_df['salary'] > upper_salary, 'salary'] = upper_salary\n",
    "imputed_df.loc[imputed_df['salary'] < lower_salary, 'salary'] = lower_salary"
   ]
  },
  {
   "cell_type": "markdown",
   "id": "48f5b58c",
   "metadata": {},
   "source": [
    "We then normalize the data using the standardScaler."
   ]
  },
  {
   "cell_type": "code",
   "execution_count": 77,
   "id": "a325ea1b",
   "metadata": {},
   "outputs": [],
   "source": [
    "scaler = StandardScaler()\n",
    "leave_target = imputed_df.drop('salary', axis=1)\n",
    "scaled_values = scaler.fit_transform(leave_target.values)\n",
    "scaled_features = pd.DataFrame(scaled_values, index = leave_target.index, columns = leave_target.columns)\n",
    "scaled_features['salary']= imputed_df['salary']"
   ]
  },
  {
   "cell_type": "markdown",
   "id": "0fb05630",
   "metadata": {},
   "source": [
    "Create a random forest regressor model and train the data"
   ]
  },
  {
   "cell_type": "code",
   "execution_count": 78,
   "id": "6f370eac",
   "metadata": {},
   "outputs": [],
   "source": [
    "models = [('lr',LinearRegression()),('rfr',RFR(n_estimators=30, random_state=0))]\n",
    "stacking = StackingRegressor(estimators=models)"
   ]
  },
  {
   "cell_type": "markdown",
   "id": "985ceac4",
   "metadata": {},
   "source": [
    "Using cross validation, split the training data to train and test with 80% and 20% data accordingly."
   ]
  },
  {
   "cell_type": "code",
   "execution_count": 79,
   "id": "dc39459d",
   "metadata": {},
   "outputs": [
    {
     "name": "stdout",
     "output_type": "stream",
     "text": [
      "Avg RMSE: 393.2560977254951\n",
      "Avg R2: 0.733088346741451\n"
     ]
    }
   ],
   "source": [
    "k = 5\n",
    "kf = KFold(n_splits=k, random_state=None)\n",
    "\n",
    "rmse= []\n",
    "r2 = []\n",
    "\n",
    "for train_index , test_index in kf.split(scaled_features):\n",
    "    train_X , test_X = scaled_features.iloc[train_index,:-1], scaled_features.iloc[test_index,:-1]\n",
    "    train_Y , test_Y = scaled_features.iloc[train_index,-1], scaled_features.iloc[test_index,-1]\n",
    "     \n",
    "    stacking.fit(train_X, train_Y)\n",
    "    pred = stacking.predict(test_X)\n",
    "     \n",
    "    rmse_score = mean_squared_error(test_Y,pred)\n",
    "    rmse.append(rmse_score)\n",
    "    r2_scores = r2_score(test_Y,pred)\n",
    "    r2.append(r2_scores)\n",
    "     \n",
    "avg_rmse_score = sum(rmse)/k\n",
    "avg_r2_score = sum(r2)/k\n",
    " \n",
    "print('Avg RMSE: {}'.format(avg_rmse_score))\n",
    "print('Avg R2: {}'.format(avg_r2_score))"
   ]
  },
  {
   "cell_type": "markdown",
   "id": "aab3ab2a",
   "metadata": {},
   "source": [
    "Preprocess the test data in a manner similar to the training data."
   ]
  },
  {
   "cell_type": "code",
   "execution_count": 54,
   "id": "0d2778b8",
   "metadata": {},
   "outputs": [],
   "source": [
    "test_features_binary = test_features_binary.drop(columns=[\"jobId\"])\n",
    "scaled_test = scaler.fit_transform(test_features_binary)\n",
    "scaled_test_features = pd.DataFrame(scaled_test, index = imputed_df.index, columns = imputed_df.columns[:-1])\n",
    "test_pred = stacking.predict(scaled_test_features)"
   ]
  },
  {
   "cell_type": "code",
   "execution_count": 55,
   "id": "2462416e",
   "metadata": {},
   "outputs": [],
   "source": [
    "predicted_salaries = pd.DataFrame(\n",
    "    {'jobId': test_features[\"jobId\"],\n",
    "     'salary': test_pred\n",
    "    })\n",
    "predicted_salaries.to_csv(\"test_salaries.csv\")"
   ]
  },
  {
   "cell_type": "code",
   "execution_count": null,
   "id": "85cb8da5",
   "metadata": {},
   "outputs": [],
   "source": []
  }
 ],
 "metadata": {
  "kernelspec": {
   "display_name": "Python 3",
   "language": "python",
   "name": "python3"
  },
  "language_info": {
   "codemirror_mode": {
    "name": "ipython",
    "version": 3
   },
   "file_extension": ".py",
   "mimetype": "text/x-python",
   "name": "python",
   "nbconvert_exporter": "python",
   "pygments_lexer": "ipython3",
   "version": "3.8.8"
  }
 },
 "nbformat": 4,
 "nbformat_minor": 5
}
